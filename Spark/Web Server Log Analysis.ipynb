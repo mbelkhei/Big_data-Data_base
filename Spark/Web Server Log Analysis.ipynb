{
 "cells": [
  {
   "cell_type": "code",
   "execution_count": 1,
   "metadata": {
    "collapsed": true
   },
   "outputs": [],
   "source": [
    "import findspark\n",
    "findspark.init()\n",
    "\n",
    "import pyspark\n",
    "sc = pyspark.SparkContext(appName=\"Loganalysis\")"
   ]
  },
  {
   "cell_type": "code",
   "execution_count": 2,
   "metadata": {
    "collapsed": true
   },
   "outputs": [],
   "source": [
    "import re\n",
    "import datetime\n",
    "\n",
    "from pyspark.sql import Row"
   ]
  },
  {
   "cell_type": "markdown",
   "metadata": {},
   "source": [
    "### 1- Apache Web Server Log file format"
   ]
  },
  {
   "cell_type": "markdown",
   "metadata": {},
   "source": [
    "#### Parsing log file"
   ]
  },
  {
   "cell_type": "code",
   "execution_count": 3,
   "metadata": {
    "collapsed": true
   },
   "outputs": [],
   "source": [
    "month_map = {'Jan':1, 'Feb':2, 'Mar':3, 'Apr':4, 'May':5, 'Jun':6,\n",
    "             'Jul':7, 'Aug':8, 'Sep':9, 'Oct':10, 'Nov':11, 'Dec':12}"
   ]
  },
  {
   "cell_type": "code",
   "execution_count": 4,
   "metadata": {
    "collapsed": true
   },
   "outputs": [],
   "source": [
    "def parse_apache_time(s):\n",
    "    ''' Returns apache time format to python format\n",
    "    Args (time): string of apache time in the format [day/month/year:hour:minute:second timezone]\n",
    "    Returns : datetime object in python format\n",
    "    '''\n",
    "    \n",
    "    return datetime.datetime(int(s[7:11]),\n",
    "                             month_map[s[3:6]],\n",
    "                             int(s[0:2]),\n",
    "                             int(s[12:14]),\n",
    "                             int(s[15:17]),\n",
    "                             int(s[18:20]))"
   ]
  },
  {
   "cell_type": "code",
   "execution_count": 5,
   "metadata": {
    "collapsed": true
   },
   "outputs": [],
   "source": [
    "# A regular expression pattern to extract fields from the log line\n",
    "APACHE_ACCESS_LOG_PATTERN = '^(\\S+) (\\S+) (\\S+) \\[([\\w:/]+\\s[+\\-]\\d{4})\\] \"(\\S+) (\\S+)\\s*(\\S*)\" (\\d{3}) (\\S+)'"
   ]
  },
  {
   "cell_type": "code",
   "execution_count": 6,
   "metadata": {
    "collapsed": true
   },
   "outputs": [],
   "source": [
    "def parseapachelogline(logline):\n",
    "    \n",
    "    match = re.search(APACHE_ACCESS_LOG_PATTERN, logline)\n",
    "    \n",
    "    if match is None:\n",
    "        return (logline, 0) # this will help to debug invalid log lines\n",
    "    \n",
    "    size_field = match.group(9)\n",
    "    if size_field == '-':\n",
    "        size = float(0)\n",
    "    else:\n",
    "        size = float(match.group(9))\n",
    "    \n",
    "    return (Row(\n",
    "    host          = match.group(1),\n",
    "    client_identd = match.group(2),\n",
    "    user_id       = match.group(3),\n",
    "    date_time     = parse_apache_time(match.group(4)),\n",
    "    method        = match.group(5),\n",
    "    endpoint      = match.group(6),\n",
    "    protocol      = match.group(7),\n",
    "    response_code = int(match.group(8)),\n",
    "    content_size  = size), 1)\n",
    "    "
   ]
  },
  {
   "cell_type": "code",
   "execution_count": 7,
   "metadata": {},
   "outputs": [
    {
     "name": "stdout",
     "output_type": "stream",
     "text": [
      "Number of invalid logline: 895\n",
      "Invalid logline: 198.213.130.253 - - [03/Aug/1995:11:29:02 -0400] \"GET /shuttle/missions/sts-34/mission-sts-34.html\"><IMG images/ssbuv1.gif SRC=\"images/small34p.gif/ HTTP/1.0\" 404 -\n",
      "Invalid logline: ztm-13.dial.xs4all.nl - - [04/Aug/1995:09:34:52 -0400] \"GET / /   HTTP/1.0\" 200 7034\n",
      "Invalid logline: pc32.cis.uoguelph.ca - - [04/Aug/1995:10:57:21 -0400] \"GET / /   HTTP/1.0\" 200 7034\n",
      "Invalid logline: sgate08.st-and.ac.uk - - [04/Aug/1995:17:52:59 -0400] \"GET /htbin/wais.pl?Wake Shield HTTP/1.0\" 200 6858\n",
      "Invalid logline: userp2.snowhill.com - - [05/Aug/1995:14:57:06 -0400] \"GET / \" HTTP/1.0\" 200 7034\n",
      "Invalid logline: ppp-nyc-2-64.ios.com - - [05/Aug/1995:20:45:33 -0400] \"GET /shuttle/missions/sts-69/images/images.html 40,207 89,234 HTTP/1.0\" 200 2443\n",
      "Invalid logline: ppp-nyc-2-64.ios.com - - [05/Aug/1995:20:47:52 -0400] \"GET /shuttle/countdown/tour.html 40,243 89,262 HTTP/1.0\" 200 4347\n",
      "Invalid logline: client-71-162.online.apple.com - - [05/Aug/1995:22:53:19 -0400] \"GET /msfc/astro home.html HTTP/1.0\" 404 -\n",
      "Invalid logline: client-71-162.online.apple.com - - [05/Aug/1995:22:53:47 -0400] \"GET /msfc/astro home.html HTTP/1.0\" 404 -\n",
      "Invalid logline: rt99-9.rotterdam.nl.net - - [06/Aug/1995:11:35:40 -0400] \"GET / /   HTTP/1.0\" 200 7034\n",
      "Invalid logline: client-71-69.online.apple.com - - [06/Aug/1995:12:21:18 -0400] \"GET /msfc/astro home.html HTTP/1.0\" 404 -\n",
      "Invalid logline: spark1.ecf.toronto.edu - - [06/Aug/1995:16:13:52 -0400] \"GET / history/apollo/apollo-13/apollo-13.html HTTP/1.0\" 200 7034\n",
      "Invalid logline: bos49.pi.net - - [06/Aug/1995:16:31:40 -0400] \"GET /htbin/wais.pl?satellite pictures HTTP/1.0\" 200 321\n",
      "Invalid logline: 194.151.8.5 - - [07/Aug/1995:08:48:56 -0400] \"GET / /   HTTP/1.0\" 200 7034\n",
      "Invalid logline: www.db.erau.edu - - [07/Aug/1995:11:19:10 -0400] \"GET /robots.txt HTML/1.0 headers\" 404 -\n",
      "Invalid logline: pc532-03.gsfc.nasa.gov - - [07/Aug/1995:12:40:13 -0400] \"GET /facilities/mila.html>Merritt Island Spaceflight Tracking and Data Network Station (MILA)</a>\" 404 -\n",
      "Invalid logline: ara2.acs.muohio.edu - - [07/Aug/1995:20:40:00 -0400] \"GET /history/apollo/apollo-13/apollo1-.html    apollo-1 HTTP/1.0\" 404 -\n",
      "Invalid logline: ara2.acs.muohio.edu - - [07/Aug/1995:20:41:10 -0400] \"GET /history/apollo/apollo-13/apollo1-.html    apollo-1 HTTP/1.0\" 404 -\n",
      "Invalid logline: ara2.acs.muohio.edu - - [07/Aug/1995:20:41:18 -0400] \"GET /history/apollo/apollo-13/apollo1-.html    apollo-1 HTTP/1.0\" 404 -\n",
      "Invalid logline: hyperweb.mit.edu - - [08/Aug/1995:09:01:06 -0400] \"GET /shuttle/technology/sts-newsref/http://www.ksc.nasa.gov/images/shuttle-patch-logo.gif> Table of\" 404 -\n",
      "Read 1569898 lines, successfully parsed 1569003 lines, failed to parse 895 lines\n"
     ]
    }
   ],
   "source": [
    "def parseLogs():\n",
    "    \"\"\" Read and parse log file \"\"\"\n",
    "    parsed_logs = (sc\n",
    "                   .textFile('access_log_Aug95.txt') #load file\n",
    "                   .map(parseapachelogline) #parse file\n",
    "                   .cache()) #cache parsed logs\n",
    "\n",
    "    access_logs = (parsed_logs\n",
    "                   .filter(lambda s: s[1] == 1) #filter if log line is valid\n",
    "                   .map(lambda s: s[0])\n",
    "                   .cache())\n",
    "\n",
    "    failed_logs = (parsed_logs\n",
    "                   .filter(lambda s: s[1] == 0) #filter if log line is invalid\n",
    "                   .map(lambda s: s[0]))\n",
    "    \n",
    "    failed_logs_count = failed_logs.count() #count of invalid log lines\n",
    "    \n",
    "    if failed_logs_count > 0: #print invalid log lines\n",
    "        print('Number of invalid logline: %d' % failed_logs.count())\n",
    "        for line in failed_logs.take(20):\n",
    "            print ('Invalid logline: %s' % line)\n",
    "\n",
    "    print ('Read %d lines, successfully parsed %d lines, failed to parse %d lines' % (parsed_logs.count(), access_logs.count(), failed_logs.count())) #print summary of parsing\n",
    "    return parsed_logs, access_logs, failed_logs\n",
    "\n",
    "\n",
    "parsed_logs, access_logs, failed_logs = parseLogs()"
   ]
  },
  {
   "cell_type": "code",
   "execution_count": 8,
   "metadata": {},
   "outputs": [
    {
     "name": "stdout",
     "output_type": "stream",
     "text": [
      "Number of invalid logline: 1\n",
      "Invalid logline: titan - - [31/Aug/1995:05:06:15 -0400] \"?\" 400 -\n",
      "Read 1569898 lines, successfully parsed 1569897 lines, failed to parse 1 lines\n"
     ]
    }
   ],
   "source": [
    "# there are 895 invalid log lines, there is need to improve the regex\n",
    "# This was originally '^(\\S+) (\\S+) (\\S+) \\[([\\w:/]+\\s[+\\-]\\d{4})\\] \"(\\S+) (\\S+)\\s*(\\S*)\" (\\d{3}) (\\S+)'\n",
    "APACHE_ACCESS_LOG_PATTERN = '^(\\S+) (\\S+) (\\S+) \\[([\\w:/]+\\s[+\\-]\\d{4})\\] \"(\\S+)\\s*?(\\S+)\\s*?(\\S+).+?\".+?(\\d{3}) (\\S+)'\n",
    "\n",
    "parsed_logs, access_logs, failed_logs = parseLogs()"
   ]
  },
  {
   "cell_type": "markdown",
   "metadata": {},
   "source": [
    "### 2- Sample Analyses on the Web Server Log File"
   ]
  },
  {
   "cell_type": "markdown",
   "metadata": {},
   "source": [
    "#### statistics based on the content size"
   ]
  },
  {
   "cell_type": "code",
   "execution_count": 9,
   "metadata": {},
   "outputs": [
    {
     "name": "stdout",
     "output_type": "stream",
     "text": [
      "Content Size Avg: 17089, Min: 0, Max: 3421948.0\n"
     ]
    }
   ],
   "source": [
    "content_sizes = access_logs.map(lambda log: log.content_size).cache()\n",
    "print ('Content Size Avg: %i, Min: %i, Max: %s' % (\n",
    "    content_sizes.reduce(lambda a, b : a + b) / content_sizes.count(),\n",
    "    content_sizes.min(),\n",
    "    content_sizes.max()))"
   ]
  },
  {
   "cell_type": "markdown",
   "metadata": {},
   "source": [
    "#### Response Code to Count with pie chart plot"
   ]
  },
  {
   "cell_type": "code",
   "execution_count": 10,
   "metadata": {},
   "outputs": [
    {
     "name": "stdout",
     "output_type": "stream",
     "text": [
      "Found 8 response codes\n",
      "Response Code Counts: [(200, 1398988), (400, 9), (500, 3), (501, 27), (302, 26497), (403, 171), (304, 134146), (404, 10056)]\n"
     ]
    }
   ],
   "source": [
    "responseCodeToCount = (access_logs\n",
    "                       .map(lambda log: (log.response_code,1))\n",
    "                       .reduceByKey(lambda a, b: a+b)\n",
    "                       .cache())\n",
    "responseCodeToCountList = responseCodeToCount.take(100)\n",
    "print ('Found %d response codes' % len(responseCodeToCountList))\n",
    "print ('Response Code Counts: %s' % responseCodeToCountList)"
   ]
  },
  {
   "cell_type": "code",
   "execution_count": 11,
   "metadata": {
    "collapsed": true
   },
   "outputs": [],
   "source": [
    "labels = responseCodeToCount.map(lambda v: v[0]).collect()\n",
    "count  = access_logs.count()\n",
    "fracs  = responseCodeToCount.map(lambda v: v[1]/count).collect()"
   ]
  },
  {
   "cell_type": "code",
   "execution_count": 12,
   "metadata": {},
   "outputs": [
    {
     "data": {
      "text/plain": [
       "([200, 400, 500, 501, 302, 403, 304, 404],\n",
       " 1569897,\n",
       " [0.8911336221420896,\n",
       "  5.732860181273039e-06,\n",
       "  1.9109533937576797e-06,\n",
       "  1.7198580543819117e-05,\n",
       "  0.016878177358132414,\n",
       "  0.00010892434344418774,\n",
       "  0.08544891798633923,\n",
       "  0.006405515775875742])"
      ]
     },
     "execution_count": 12,
     "metadata": {},
     "output_type": "execute_result"
    }
   ],
   "source": [
    "labels, count, fracs"
   ]
  },
  {
   "cell_type": "code",
   "execution_count": 13,
   "metadata": {},
   "outputs": [
    {
     "name": "stdout",
     "output_type": "stream",
     "text": [
      "1\n",
      "2\n",
      "3\n",
      "5\n"
     ]
    },
    {
     "data": {
      "image/png": "[encoded data removed]",
      "text/plain": [
       "<matplotlib.figure.Figure at 0x6c25d4c4a8>"
      ]
     },
     "metadata": {},
     "output_type": "display_data"
    }
   ],
   "source": [
    "import matplotlib.pyplot as plt\n",
    "%matplotlib inline\n",
    "\n",
    "\n",
    "def pie_pct_format(value):\n",
    "    \"\"\" Determine the appropriate format string for the pie chart percentage label\n",
    "    Args:\n",
    "        value: value of the pie slice\n",
    "    Returns:\n",
    "        str: formated string label; if the slice is too small to fit, returns an empty string for label\n",
    "    \"\"\"\n",
    "    return '' if value < 0.5 else '%.0f%%' % value\n",
    "\n",
    "fig = plt.figure(figsize=(8,8), facecolor='white', edgecolor='white')\n",
    "colors = ['yellowgreen', 'blue', 'gold', 'purple', 'lightcoral', 'brown', 'lightskyblue','orange']\n",
    "explode = (0.1, 0.1, 0.1, 0.1, 0.1, 0, 0.1, 0.1)\n",
    "patches, texts, autotexts = plt.pie(fracs, labels=countlist, colors=colors,\n",
    "                                    explode=explode, autopct=pie_pct_format,\n",
    "                                    shadow=False,  startangle=125)\n",
    "\n",
    "for text, (ix,autotext) in zip(texts, enumerate(autotexts)):\n",
    "    if autotext.get_text() == '':\n",
    "        print(ix)\n",
    "        text.set_text('')  # If the slice is small to fit, don't show a text label\n",
    "plt.legend(labels, loc=(0.80, -0.1), shadow=True)\n",
    "pass"
   ]
  },
  {
   "cell_type": "markdown",
   "metadata": {},
   "source": [
    "#### Frequent Hosts"
   ]
  },
  {
   "cell_type": "code",
   "execution_count": 14,
   "metadata": {
    "collapsed": true
   },
   "outputs": [],
   "source": [
    "# Any hosts that has accessed the server more than 10 times.\n",
    "hostCountPairTuple = access_logs.map(lambda log: (log.host, 1))\n",
    "\n",
    "hostSum = hostCountPairTuple.reduceByKey(lambda a, b : a + b)\n",
    "\n",
    "hostMoreThan10 = hostSum.filter(lambda s: s[1] > 10)\n",
    "\n",
    "hostsPick20 = (hostMoreThan10\n",
    "               .map(lambda s: s[0])\n",
    "               .take(20))"
   ]
  },
  {
   "cell_type": "code",
   "execution_count": 15,
   "metadata": {},
   "outputs": [
    {
     "name": "stdout",
     "output_type": "stream",
     "text": [
      "Any 20 hosts that have accessed more then 10 times: ['130.18.192.84', '204.212.234.222', 'h192_146_129_28.gte.com', '163.205.162.64', 'ad07-014.compuserve.com', 'internet22.cybersmith.com', '192.85.230.189', '192.87.211.21', 'wwhite.seanet.com', 'kuts4p02.cc.ukans.edu', 'srv1s11.saglac.qc.ca', 'quimica.biol.unlp.edu.ar', 'hickoryhill.com', '204.96.24.5', 'c128003_p6.mc.duke.edu', '134.175.8.3', '198.151.175.176', 'w20-575-76.mit.edu', 'ix-sea5-19.ix.netcom.com', '134.68.223.1']\n"
     ]
    }
   ],
   "source": [
    "print('Any 20 hosts that have accessed more then 10 times: %s' % hostsPick20)\n"
   ]
  },
  {
   "cell_type": "markdown",
   "metadata": {},
   "source": [
    "#### Visualizing Endpoints"
   ]
  },
  {
   "cell_type": "code",
   "execution_count": 16,
   "metadata": {},
   "outputs": [
    {
     "data": {
      "image/png": "[encoded data removed]",
      "text/plain": [
       "<matplotlib.figure.Figure at 0x6c25d4ce80>"
      ]
     },
     "metadata": {},
     "output_type": "display_data"
    }
   ],
   "source": [
    "endpoints = (access_logs\n",
    "             .map(lambda log: (log.endpoint, 1))\n",
    "             .reduceByKey(lambda a, b : a + b)\n",
    "             .cache())\n",
    "ends = endpoints.map(lambda x: x[0]).collect()\n",
    "counts = endpoints.map(lambda x: x[1]).collect()\n",
    "\n",
    "fig = plt.figure(figsize=(8,4.2), facecolor='white', edgecolor='white')\n",
    "plt.axis([0, len(ends), 0, max(counts)])\n",
    "plt.grid(b=True, which='major', axis='y')\n",
    "plt.xlabel('Endpoints')\n",
    "plt.ylabel('Number of Hits')\n",
    "plt.plot(counts)\n",
    "pass"
   ]
  },
  {
   "cell_type": "markdown",
   "metadata": {},
   "source": [
    "#### Top Endpoints"
   ]
  },
  {
   "cell_type": "code",
   "execution_count": 17,
   "metadata": {},
   "outputs": [
    {
     "name": "stdout",
     "output_type": "stream",
     "text": [
      "Top endpoints are: [('/images/NASA-logosmall.gif', 97293), ('/images/KSC-logosmall.gif', 75283), ('/images/MOSAIC-logosmall.gif', 67356), ('/images/USA-logosmall.gif', 66975), ('/images/WORLD-logosmall.gif', 66351), ('/images/ksclogo-medium.gif', 62670), ('/ksc.html', 43619), ('/history/apollo/images/apollo-logo1.gif', 37806), ('/images/launch-logo.gif', 35119), ('/', 30121), ('/images/ksclogosmall.gif', 27789), ('/shuttle/missions/sts-69/mission-sts-69.html', 24592), ('/shuttle/countdown/', 24445), ('/shuttle/missions/sts-69/count69.gif', 24363), ('/shuttle/missions/sts-69/sts-69-patch-small.gif', 23391), ('/shuttle/missions/missions.html', 22429), ('/images/launchmedium.gif', 19863), ('/htbin/cdt_main.pl', 17238), ('/shuttle/countdown/images/countclock.gif', 12154), ('/icons/menu.xbm', 12128)]\n"
     ]
    }
   ],
   "source": [
    "print('Top endpoints are: %s'%endpoints.takeOrdered(20, lambda x: -x[1]))"
   ]
  },
  {
   "cell_type": "markdown",
   "metadata": {},
   "source": [
    "### 3- Analyzing Web Server Log File"
   ]
  },
  {
   "cell_type": "markdown",
   "metadata": {},
   "source": [
    "#### Top Ten Error Endpoints"
   ]
  },
  {
   "cell_type": "code",
   "execution_count": 18,
   "metadata": {},
   "outputs": [
    {
     "name": "stdout",
     "output_type": "stream",
     "text": [
      "Top Ten failed URLs: [('/images/NASA-logosmall.gif', 19080), ('/images/KSC-logosmall.gif', 11328), ('/images/MOSAIC-logosmall.gif', 8617), ('/images/USA-logosmall.gif', 8565), ('/images/WORLD-logosmall.gif', 8360), ('/images/ksclogo-medium.gif', 7722), ('/history/apollo/images/apollo-logo1.gif', 4355), ('/shuttle/countdown/images/countclock.gif', 4227), ('/images/launch-logo.gif', 4178), ('/', 3605)]\n"
     ]
    }
   ],
   "source": [
    "not200 = access_logs.filter(lambda log: log.response_code != 200)\n",
    "\n",
    "endpointCountPairTuple = not200.map(lambda log: (log.endpoint, 1))\n",
    "\n",
    "endpointSum = endpointCountPairTuple.reduceByKey(lambda a, b : a + b)\n",
    "\n",
    "topTenErrURLs = endpointSum.takeOrdered(10, lambda s: -1 * s[1])\n",
    "print('Top Ten failed URLs: %s' % topTenErrURLs)"
   ]
  },
  {
   "cell_type": "markdown",
   "metadata": {},
   "source": [
    "#### Number of Unique Hosts"
   ]
  },
  {
   "cell_type": "code",
   "execution_count": 19,
   "metadata": {},
   "outputs": [
    {
     "name": "stdout",
     "output_type": "stream",
     "text": [
      "Unique hosts: 75060\n"
     ]
    }
   ],
   "source": [
    "hosts = access_logs.map(lambda log: (log.host, 1))\n",
    "\n",
    "uniqueHosts = hosts.reduceByKey(lambda a, b : a + b)\n",
    "\n",
    "uniqueHostCount = uniqueHosts.count()\n",
    "print('Unique hosts: %d' % uniqueHostCount)"
   ]
  },
  {
   "cell_type": "markdown",
   "metadata": {},
   "source": [
    "#### Number of Unique Hosts per day"
   ]
  },
  {
   "cell_type": "code",
   "execution_count": 20,
   "metadata": {},
   "outputs": [
    {
     "name": "stdout",
     "output_type": "stream",
     "text": [
      "Unique hosts per day: [(1, 2582), (3, 3222), (4, 4191), (5, 2502), (6, 2538), (7, 4108), (8, 4406), (9, 4317), (10, 4523), (11, 4346), (12, 2865), (13, 2650), (14, 4454), (15, 4214), (16, 4340), (17, 4385), (18, 4168), (19, 2550), (20, 2560), (21, 4135), (22, 4456), (23, 4368), (24, 4077), (25, 4407), (26, 2644), (27, 2690), (28, 4215), (29, 4826), (30, 5266), (31, 5916)]\n"
     ]
    }
   ],
   "source": [
    "dayToHostPairTuple = access_logs.map(lambda log: (log.date_time.day, log.host))\n",
    "\n",
    "dayGroupedHosts = dayToHostPairTuple.combineByKey(lambda v: [v], lambda c, v: c + [v], lambda c1, c2: c1 + c2)\n",
    "\n",
    "dayHostCount = dayGroupedHosts.map(lambda x: (x[0], len(set(x[1]))))\n",
    "                                                   \n",
    "dailyHosts = dayHostCount.sortByKey().cache()\n",
    "\n",
    "dailyHostsList = dailyHosts.take(30)\n",
    "print ('Unique hosts per day: %s' % dailyHostsList)"
   ]
  },
  {
   "cell_type": "markdown",
   "metadata": {},
   "source": [
    "#### Visualizing the Number of Unique Daily Hosts"
   ]
  },
  {
   "cell_type": "code",
   "execution_count": 21,
   "metadata": {
    "collapsed": true
   },
   "outputs": [],
   "source": [
    "daysWithHosts = dailyHosts.map(lambda x: x[0]).collect()\n",
    "hosts = dailyHosts.map(lambda x: x[1]).collect()"
   ]
  },
  {
   "cell_type": "code",
   "execution_count": 22,
   "metadata": {},
   "outputs": [
    {
     "data": {
      "text/plain": [
       "[<matplotlib.lines.Line2D at 0x6c298dcbe0>]"
      ]
     },
     "execution_count": 22,
     "metadata": {},
     "output_type": "execute_result"
    },
    {
     "data": {
      "image/png": "[encoded data removed]",
      "text/plain": [
       "<matplotlib.figure.Figure at 0x6c298be518>"
      ]
     },
     "metadata": {},
     "output_type": "display_data"
    }
   ],
   "source": [
    "fig = plt.figure(figsize=(8,4.5), facecolor='white', edgecolor='white')\n",
    "plt.axis([min(daysWithHosts), max(daysWithHosts), 0, max(hosts)+500])\n",
    "plt.grid(b=True, which='major', axis='y')\n",
    "plt.xlabel('Day')\n",
    "plt.ylabel('Hosts')\n",
    "plt.plot(daysWithHosts, hosts)"
   ]
  },
  {
   "cell_type": "markdown",
   "metadata": {},
   "source": [
    "#### Average Number of Daily Requests per Hosts with visualization"
   ]
  },
  {
   "cell_type": "code",
   "execution_count": 23,
   "metadata": {},
   "outputs": [
    {
     "name": "stdout",
     "output_type": "stream",
     "text": [
      "Average number of daily requests per Hosts is [(1, 13.166537567776917), (3, 12.845437616387336), (4, 14.210689572894298), (5, 12.747002398081534), (6, 12.77383766745469), (7, 13.9634858812074), (8, 13.653427144802542), (9, 14.00463284688441), (10, 13.541454786646032), (11, 14.092498849516797), (12, 13.288307155322862), (13, 13.766037735849057), (14, 13.443646160754378), (15, 13.964641670621736), (16, 13.0536866359447), (17, 13.452223489167617), (18, 13.494721689059501), (19, 12.585882352941177), (20, 12.876171875), (21, 13.4316807738815), (22, 12.962746858168762), (23, 13.300595238095237), (24, 12.889870002452783), (25, 13.006807351940095), (26, 11.954614220877458), (27, 12.20185873605948), (28, 13.166310794780546), (29, 14.087857438872772), (30, 15.313520698822636), (31, 15.23394185260311)]\n"
     ]
    }
   ],
   "source": [
    "sortedByDay = dayGroupedHosts.sortByKey(ascending=True)\n",
    "avgDailyReqPerHost = sortedByDay.map(lambda x: (x[0],len(x[1])/len(set(x[1])))).cache()\n",
    "\n",
    "avgDailyReqPerHostList = avgDailyReqPerHost.take(30)\n",
    "print('Average number of daily requests per Hosts is %s' % avgDailyReqPerHostList)"
   ]
  },
  {
   "cell_type": "code",
   "execution_count": 24,
   "metadata": {
    "collapsed": true
   },
   "outputs": [],
   "source": [
    "daysWithAvg = avgDailyReqPerHost.map(lambda x: x[0]).collect()\n",
    "avgs = avgDailyReqPerHost.map(lambda x: x[1]).collect()"
   ]
  },
  {
   "cell_type": "code",
   "execution_count": 25,
   "metadata": {},
   "outputs": [
    {
     "data": {
      "text/plain": [
       "[<matplotlib.lines.Line2D at 0x6c2991d278>]"
      ]
     },
     "execution_count": 25,
     "metadata": {},
     "output_type": "execute_result"
    },
    {
     "data": {
      "image/png": "[encoded data removed]",
      "text/plain": [
       "<matplotlib.figure.Figure at 0x6c298fd0b8>"
      ]
     },
     "metadata": {},
     "output_type": "display_data"
    }
   ],
   "source": [
    "fig = plt.figure(figsize=(8,4.2), facecolor='white', edgecolor='white')\n",
    "plt.axis([0, max(daysWithAvg), 0, max(avgs)+2])\n",
    "plt.grid(b=True, which='major', axis='y')\n",
    "plt.xlabel('Day')\n",
    "plt.ylabel('Average')\n",
    "plt.plot(daysWithAvg, avgs)"
   ]
  },
  {
   "cell_type": "markdown",
   "metadata": {},
   "source": [
    "### 4- Exploring 404 Response Codes"
   ]
  },
  {
   "cell_type": "markdown",
   "metadata": {},
   "source": [
    "#### Counting 404 Response Codes"
   ]
  },
  {
   "cell_type": "code",
   "execution_count": 26,
   "metadata": {},
   "outputs": [
    {
     "name": "stdout",
     "output_type": "stream",
     "text": [
      "Found 10056 404 URLs\n"
     ]
    }
   ],
   "source": [
    "badRecords = (access_logs\n",
    "              .filter(lambda log: log.response_code == 404)\n",
    "              .cache())\n",
    "print ('Found %d 404 URLs' % badRecords.count())"
   ]
  },
  {
   "cell_type": "markdown",
   "metadata": {},
   "source": [
    "#### Listing 404 Response Code Records"
   ]
  },
  {
   "cell_type": "code",
   "execution_count": 27,
   "metadata": {},
   "outputs": [
    {
     "name": "stdout",
     "output_type": "stream",
     "text": [
      "404 URLS: ['/ad/sponsors/starwave/sbad2.gif', '/history/apollo/sa-9/movies/', '/shutttle/missions/sts-70/images/KSC-95EC-1059.jpg', '/shuttle/missions/sts-69/images/redball.gif', '/~adverts/isn/ad1/banner.gif', '/shuttle/missions/61-b/mission-62.html', '/www.fedworld.gov/ntis/ntishome.html', '/img/sportstalk3.gif', '/ksc.html>NASA', '/PTS/thin_strip2.gif', '/software/winvn/win/', '/mir/', '/history/a[p;;p/apollo.html', '/statistics/1995/Jul/Aug95.html', '/history/apollo/pad-abort-test-2/docs/', '/shuttle/missions/sts-67/images/k95p0381.txt', '/shuttle/technology/images/sts-airlock-small.gif', '/~pccomp/graphics/pccnlne2.gif', '/cgi-bin/WebQuery', '/shuttle/countdown/images/sat_ir_east.gif', '/Shuttle/mission.htm', '/shuttle/missions/missions.hmtl', '/software/techdoc/td-2.html', '/wsoftware/winvn/winvn.html', '/wwwicons/orange.gif', '/news/sci.space.policy/archive/sci-space-policy-19-jul-1994-17.txt', '/kscpao/status/', '/gra', '/home/whats-cool.html', '/~adverts/graphics/indxlogo.gif', '/www/software/winvn/', '/payloads/schedules/pics/cr/', '/shuttleenix.net/~nuclear/ch2a.html', '/shuttle/resources/orbiters/atlantis.gif', '/software/techdoc/td-10.html', '/HISTORY/APOLLO/APOLL-13/APOLLO-13.HTML', '/shuttle/missions/sts-69/mission-sts', '/shuttle/countdown/liftoff.htm', '/shuttle/missions/misions.html', '/images/navigation_bar.gif']\n"
     ]
    }
   ],
   "source": [
    "badEndpoints = badRecords.map(lambda log: log.endpoint)\n",
    "\n",
    "badUniqueEndpoints = badEndpoints.distinct()\n",
    "\n",
    "badUniqueEndpointsPick40 = badUniqueEndpoints.take(40)\n",
    "print('404 URLS: %s' % badUniqueEndpointsPick40)"
   ]
  },
  {
   "cell_type": "markdown",
   "metadata": {},
   "source": [
    "####  Listing the Top Twenty 404 Response Code Endpoints"
   ]
  },
  {
   "cell_type": "code",
   "execution_count": 28,
   "metadata": {},
   "outputs": [
    {
     "name": "stdout",
     "output_type": "stream",
     "text": [
      "Top Twenty 404 URLs: [('/pub/winvn/readme.txt', 1337), ('/pub/winvn/release.txt', 1185), ('/shuttle/missions/STS-69/mission-STS-69.html', 682), ('/images/nasa-logo.gif', 319), ('/shuttle/missions/sts-68/ksc-upclose.gif', 251), ('/elv/DELTA/uncons.htm', 209), ('/history/apollo/sa-1/sa-1-patch-small.gif', 200), ('/://spacelink.msfc.nasa.gov', 166), ('/images/crawlerway-logo.gif', 160), ('/history/apollo/a-001/a-001-patch-small.gif', 154), ('/history/apollo/pad-abort-test-1/pad-abort-test-1-patch-small.gif', 144), ('/images/Nasa-logo.gif', 85), ('/history/apollo/images/little-joe.jpg', 84), ('/shuttle/resources/orbiters/discovery.gif', 82), ('/shuttle/resources/orbiters/atlantis.gif', 80), ('/robots.txt', 78), ('/shuttle/resources/orbiters/challenger.gif', 77), ('/images/lf-logo.gif', 77), ('/elv/new01.gif', 65), ('/software/winvn/winvn.html.', 57)]\n"
     ]
    }
   ],
   "source": [
    "badEndpointsCountPairTuple = badRecords.map(lambda log: (log.endpoint, 1))\n",
    "\n",
    "badEndpointsSum = badEndpointsCountPairTuple.reduceByKey(lambda a, b: a + b)\n",
    "\n",
    "badEndpointsTop20 = badEndpointsSum.takeOrdered(20, lambda s: -1 * s[1])\n",
    "print('Top Twenty 404 URLs: %s' % badEndpointsTop20)"
   ]
  },
  {
   "cell_type": "markdown",
   "metadata": {},
   "source": [
    "#### Listing the Top Twenty-five 404 Response Code Hosts"
   ]
  },
  {
   "cell_type": "code",
   "execution_count": 29,
   "metadata": {},
   "outputs": [
    {
     "name": "stdout",
     "output_type": "stream",
     "text": [
      "Top 25 hosts that generated errors: [('dialip-217.den.mmc.com', 62), ('piweba3y.prodigy.com', 47), ('155.148.25.4', 44), ('maz3.maz.net', 39), ('gate.barr.com', 38), ('ts8-1.westwood.ts.ucla.edu', 37), ('204.62.245.32', 37), ('m38-370-9.mit.edu', 37), ('nexus.mlckew.edu.au', 37), ('scooter.pa-x.dec.com', 35), ('reddragon.ksc.nasa.gov', 33), ('www-c4.proxy.aol.com', 32), ('piweba5y.prodigy.com', 31), ('piweba4y.prodigy.com', 30), ('www-d4.proxy.aol.com', 30), ('internet-gw.watson.ibm.com', 29), ('163.206.104.34', 28), ('unidata.com', 28), ('spica.sci.isas.ac.jp', 27), ('www-d2.proxy.aol.com', 26), ('203.13.168.24', 25), ('203.13.168.17', 25), ('www-c2.proxy.aol.com', 23), ('www-d1.proxy.aol.com', 23), ('crl5.crl.com', 23)]\n"
     ]
    }
   ],
   "source": [
    "errHostsCountPairTuple = badRecords.map(lambda log: (log.host, 1))\n",
    "\n",
    "errHostsSum = errHostsCountPairTuple.reduceByKey(lambda a, b: a + b)\n",
    "\n",
    "errHostsTop25 = errHostsSum.takeOrdered(25, lambda s: -1 * s[1])\n",
    "print('Top 25 hosts that generated errors: %s' % errHostsTop25)"
   ]
  },
  {
   "cell_type": "markdown",
   "metadata": {},
   "source": [
    "#### Listing 404 Response Codes per Day"
   ]
  },
  {
   "cell_type": "code",
   "execution_count": 30,
   "metadata": {},
   "outputs": [
    {
     "name": "stdout",
     "output_type": "stream",
     "text": [
      "404 Errors by day: [(1, 243), (3, 304), (4, 346), (5, 236), (6, 373), (7, 537), (8, 391), (9, 279), (10, 315), (11, 263), (12, 196), (13, 216), (14, 287), (15, 327), (16, 259), (17, 271), (18, 256), (19, 209), (20, 312), (21, 305), (22, 288), (23, 345), (24, 420), (25, 415), (26, 366), (27, 370), (28, 410), (29, 420), (30, 571), (31, 526)]\n"
     ]
    }
   ],
   "source": [
    "errDateCountPairTuple = badRecords.map(lambda log: (log.date_time.day, 1))\n",
    "\n",
    "errDateSum = errDateCountPairTuple.reduceByKey(lambda a, b: a + b)\n",
    "\n",
    "errDateSorted = (errDateSum\n",
    "                 .sortByKey(ascending=True)\n",
    "                 .cache())\n",
    "\n",
    "errByDate = errDateSorted.collect()\n",
    "print('404 Errors by day: %s' % errByDate)"
   ]
  },
  {
   "cell_type": "markdown",
   "metadata": {},
   "source": [
    "#### Visualizing the 404 Response Codes by Day"
   ]
  },
  {
   "cell_type": "code",
   "execution_count": 31,
   "metadata": {
    "collapsed": true
   },
   "outputs": [],
   "source": [
    "daysWithErrors404 = errDateSorted.map(lambda x: x[0]).collect()\n",
    "errors404ByDay = errDateSorted.map(lambda x: x[1]).collect()"
   ]
  },
  {
   "cell_type": "code",
   "execution_count": 32,
   "metadata": {},
   "outputs": [
    {
     "data": {
      "text/plain": [
       "[<matplotlib.lines.Line2D at 0x6c29967cc0>]"
      ]
     },
     "execution_count": 32,
     "metadata": {},
     "output_type": "execute_result"
    },
    {
     "data": {
      "image/png": "[encoded data removed]",
      "text/plain": [
       "<matplotlib.figure.Figure at 0x6c299346d8>"
      ]
     },
     "metadata": {},
     "output_type": "display_data"
    }
   ],
   "source": [
    "fig = plt.figure(figsize=(8,4.2), facecolor='white', edgecolor='white')\n",
    "plt.axis([0, max(daysWithErrors404), 0, max(errors404ByDay)])\n",
    "plt.grid(b=True, which='major', axis='y')\n",
    "plt.xlabel('Day')\n",
    "plt.ylabel('404 Errors')\n",
    "plt.plot(daysWithErrors404, errors404ByDay)"
   ]
  },
  {
   "cell_type": "markdown",
   "metadata": {},
   "source": [
    "#### Top Five Days for 404 Response Codes "
   ]
  },
  {
   "cell_type": "code",
   "execution_count": 33,
   "metadata": {},
   "outputs": [
    {
     "name": "stdout",
     "output_type": "stream",
     "text": [
      "Top Five dates for 404 requests: [(30, 571), (7, 537), (31, 526), (24, 420), (29, 420)]\n"
     ]
    }
   ],
   "source": [
    "topErrDate = errDateSorted.takeOrdered(5, lambda s: -1 * s[1])\n",
    "print('Top Five dates for 404 requests: %s' % topErrDate)"
   ]
  },
  {
   "cell_type": "markdown",
   "metadata": {},
   "source": [
    "#### Hourly 404 Response Codes"
   ]
  },
  {
   "cell_type": "code",
   "execution_count": 34,
   "metadata": {},
   "outputs": [
    {
     "name": "stdout",
     "output_type": "stream",
     "text": [
      "Top hours for 404 requests: [(0, 344), (1, 327), (2, 600), (3, 363), (4, 183), (5, 160), (6, 135), (7, 218), (8, 340), (9, 359), (10, 492), (11, 428), (12, 651), (13, 614), (14, 522), (15, 549), (16, 550), (17, 586), (18, 425), (19, 440), (20, 432), (21, 434), (22, 430), (23, 474)]\n"
     ]
    }
   ],
   "source": [
    "hourCountPairTuple = badRecords.map(lambda log: (log.date_time.hour, 1))\n",
    "\n",
    "hourRecordsSum = hourCountPairTuple.reduceByKey(lambda a, b: a + b)\n",
    "\n",
    "hourRecordsSorted = (hourRecordsSum\n",
    "                     .sortByKey(ascending=True)\n",
    "                     .cache())\n",
    "\n",
    "errHourList = hourRecordsSorted.collect()\n",
    "print('Top hours for 404 requests: %s' % errHourList)"
   ]
  },
  {
   "cell_type": "markdown",
   "metadata": {},
   "source": [
    "#### Visualizing the 404 Response Codes by Hour"
   ]
  },
  {
   "cell_type": "code",
   "execution_count": 35,
   "metadata": {
    "collapsed": true
   },
   "outputs": [],
   "source": [
    "hoursWithErrors404 = hourRecordsSorted.map(lambda x: x[0]).collect()\n",
    "errors404ByHours = hourRecordsSorted.map(lambda x: x[1]).collect()"
   ]
  },
  {
   "cell_type": "code",
   "execution_count": 36,
   "metadata": {},
   "outputs": [
    {
     "data": {
      "text/plain": [
       "[<matplotlib.lines.Line2D at 0x6c299ae128>]"
      ]
     },
     "execution_count": 36,
     "metadata": {},
     "output_type": "execute_result"
    },
    {
     "data": {
      "image/png": "[encoded data removed]",
      "text/plain": [
       "<matplotlib.figure.Figure at 0x6c29950c88>"
      ]
     },
     "metadata": {},
     "output_type": "display_data"
    }
   ],
   "source": [
    "fig = plt.figure(figsize=(8,4.2), facecolor='white', edgecolor='white')\n",
    "plt.axis([0, max(hoursWithErrors404), 0, max(errors404ByHours)])\n",
    "plt.grid(b=True, which='major', axis='y')\n",
    "plt.xlabel('Hour')\n",
    "plt.ylabel('404 Errors')\n",
    "plt.plot(hoursWithErrors404, errors404ByHours)"
   ]
  },
  {
   "cell_type": "code",
   "execution_count": null,
   "metadata": {
    "collapsed": true
   },
   "outputs": [],
   "source": []
  },
  {
   "cell_type": "code",
   "execution_count": null,
   "metadata": {
    "collapsed": true
   },
   "outputs": [],
   "source": []
  }
 ],
 "metadata": {
  "kernelspec": {
   "display_name": "Python 3",
   "language": "python",
   "name": "python3"
  },
  "language_info": {
   "codemirror_mode": {
    "name": "ipython",
    "version": 3
   },
   "file_extension": ".py",
   "mimetype": "text/x-python",
   "name": "python",
   "nbconvert_exporter": "python",
   "pygments_lexer": "ipython3",
   "version": "3.5.4"
  }
 },
 "nbformat": 4,
 "nbformat_minor": 2
}
