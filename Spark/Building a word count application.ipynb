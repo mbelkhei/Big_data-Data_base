{
 "cells": [
  {
   "cell_type": "code",
   "execution_count": 1,
   "metadata": {
    "collapsed": true
   },
   "outputs": [],
   "source": [
    "import findspark\n",
    "findspark.init()\n",
    "\n",
    "import pyspark\n",
    "sc = pyspark.SparkContext(appName=\"wordcount\")"
   ]
  },
  {
   "cell_type": "markdown",
   "metadata": {},
   "source": [
    "#### Basic operations"
   ]
  },
  {
   "cell_type": "code",
   "execution_count": 3,
   "metadata": {},
   "outputs": [
    {
     "data": {
      "text/plain": [
       "pyspark.rdd.RDD"
      ]
     },
     "execution_count": 3,
     "metadata": {},
     "output_type": "execute_result"
    }
   ],
   "source": [
    "wordlist = ['cat', 'elephant', 'rat', 'rat', 'cat']\n",
    "wordrdd  = sc.parallelize(wordlist, 4)\n",
    "\n",
    "type(wordrdd)"
   ]
  },
  {
   "cell_type": "code",
   "execution_count": 5,
   "metadata": {},
   "outputs": [
    {
     "data": {
      "text/plain": [
       "'cats'"
      ]
     },
     "execution_count": 5,
     "metadata": {},
     "output_type": "execute_result"
    }
   ],
   "source": [
    "#Pluralize word\n",
    "def makeplural(text):\n",
    "    return text + 's'\n",
    "\n",
    "makeplural('cat')"
   ]
  },
  {
   "cell_type": "code",
   "execution_count": 15,
   "metadata": {},
   "outputs": [
    {
     "data": {
      "text/plain": [
       "(['cats', 'elephants', 'rats', 'rats', 'cats'],\n",
       " ['cats', 'elephants', 'rats', 'rats', 'cats'])"
      ]
     },
     "execution_count": 15,
     "metadata": {},
     "output_type": "execute_result"
    }
   ],
   "source": [
    "# pass defined function to map\n",
    "pluralrdd = wordrdd.map(makeplural).collect()\n",
    "\n",
    "# pass lambda function to map\n",
    "plurallambdardd = wordrdd.map(lambda x: x + 's').collect()\n",
    "\n",
    "pluralrdd,plurallambdardd"
   ]
  },
  {
   "cell_type": "code",
   "execution_count": 10,
   "metadata": {},
   "outputs": [
    {
     "data": {
      "text/plain": [
       "3"
      ]
     },
     "execution_count": 10,
     "metadata": {},
     "output_type": "execute_result"
    }
   ],
   "source": [
    "# length of word\n",
    "def lenword(text):\n",
    "    return len(text)\n",
    "\n",
    "lenword('cat')"
   ]
  },
  {
   "cell_type": "code",
   "execution_count": 16,
   "metadata": {},
   "outputs": [
    {
     "data": {
      "text/plain": [
       "([3, 8, 3, 3, 3], [3, 8, 3, 3, 3])"
      ]
     },
     "execution_count": 16,
     "metadata": {},
     "output_type": "execute_result"
    }
   ],
   "source": [
    "# use defined function lenword\n",
    "lenwordrdd = wordrdd.map(lenword).collect()\n",
    "\n",
    "# use lambda function\n",
    "lenlambdaword = wordrdd.map(lambda x: len(x)).collect()\n",
    "\n",
    "lenwordrdd, lenlambdaword"
   ]
  },
  {
   "cell_type": "code",
   "execution_count": 20,
   "metadata": {},
   "outputs": [
    {
     "data": {
      "text/plain": [
       "[('cat', 1), ('elephant', 1), ('rat', 1), ('rat', 1), ('cat', 1)]"
      ]
     },
     "execution_count": 20,
     "metadata": {},
     "output_type": "execute_result"
    }
   ],
   "source": [
    "# pairs of RDDs\n",
    "wordpairsrdd = wordrdd.map(lambda x: (x,1))\n",
    "\n",
    "wordpairsrdd.collect()"
   ]
  },
  {
   "cell_type": "markdown",
   "metadata": {},
   "source": [
    "#### Counting with pair RDDs"
   ]
  },
  {
   "cell_type": "code",
   "execution_count": 31,
   "metadata": {},
   "outputs": [
    {
     "name": "stdout",
     "output_type": "stream",
     "text": [
      "cat,[1, 1]\n",
      "elephant,[1]\n",
      "rat,[1, 1]\n"
     ]
    },
    {
     "data": {
      "text/plain": [
       "[('cat', 2), ('elephant', 1), ('rat', 2)]"
      ]
     },
     "execution_count": 31,
     "metadata": {},
     "output_type": "execute_result"
    }
   ],
   "source": [
    "#grouByKey() to collect the pairs (key, value)\n",
    "wordgroupbykeyrdd = wordpairsrdd.groupByKey()\n",
    "\n",
    "for key, value in wordgroupbykeyrdd.collect():\n",
    "    print('{0},{1}'.format(key,list(value)))\n",
    "\n",
    "# use the groupbykey RDD to make the count\n",
    "wordgroupbykeycountrdd = wordgroupbykeyrdd.map(lambda item: (item[0],sum(item[1]))) # index 0 is the key, index 1 is the value\n",
    "\n",
    "wordgroupbykeycountrdd.collect()"
   ]
  },
  {
   "cell_type": "code",
   "execution_count": 32,
   "metadata": {},
   "outputs": [
    {
     "data": {
      "text/plain": [
       "[('cat', 2), ('elephant', 1), ('rat', 2)]"
      ]
     },
     "execution_count": 32,
     "metadata": {},
     "output_type": "execute_result"
    }
   ],
   "source": [
    "#reduceByKey() to count the pairs directly without need to group them\n",
    "wordreducebykeyrdd = wordpairsrdd.reduceByKey(lambda x,y: x+y)\n",
    "\n",
    "wordreducebykeyrdd.collect()"
   ]
  },
  {
   "cell_type": "code",
   "execution_count": 51,
   "metadata": {},
   "outputs": [
    {
     "data": {
      "text/plain": [
       "[('cat', 2), ('elephant', 1), ('rat', 2)]"
      ]
     },
     "execution_count": 51,
     "metadata": {},
     "output_type": "execute_result"
    }
   ],
   "source": [
    "#putting it together\n",
    "wordcountrdd = (wordrdd\n",
    "                .map(lambda x: (x,1))\n",
    "                .reduceByKey(lambda x,y : x+y))\n",
    "\n",
    "wordcountrdd.collect()"
   ]
  },
  {
   "cell_type": "code",
   "execution_count": 64,
   "metadata": {},
   "outputs": [
    {
     "data": {
      "text/plain": [
       "defaultdict(int, {'cat': 2, 'elephant': 1, 'rat': 2})"
      ]
     },
     "execution_count": 64,
     "metadata": {},
     "output_type": "execute_result"
    }
   ],
   "source": [
    "# also we can use countByValue() and get returned a dictionary of keys with their values\n",
    "wordrdd.countByValue()"
   ]
  },
  {
   "cell_type": "markdown",
   "metadata": {},
   "source": [
    "#### Finding unique words and average value"
   ]
  },
  {
   "cell_type": "code",
   "execution_count": 52,
   "metadata": {},
   "outputs": [
    {
     "data": {
      "text/plain": [
       "3"
      ]
     },
     "execution_count": 52,
     "metadata": {},
     "output_type": "execute_result"
    }
   ],
   "source": [
    "# use count method on wordcount\n",
    "uniquewords = wordcountrdd.count()\n",
    "\n",
    "uniquewords"
   ]
  },
  {
   "cell_type": "code",
   "execution_count": 59,
   "metadata": {},
   "outputs": [
    {
     "name": "stdout",
     "output_type": "stream",
     "text": [
      "Total count of words is 5 and the average value is 1.67\n"
     ]
    }
   ],
   "source": [
    "# find the mean\n",
    "totalcount = (wordcountrdd\n",
    "              .map(lambda item: item[1])\n",
    "              .reduce(lambda x,y: x+y))\n",
    "average = totalcount/float(uniquewords)\n",
    "print('Total count of words is {} and the average value is {:.2f}'.format(totalcount,average))"
   ]
  },
  {
   "cell_type": "markdown",
   "metadata": {},
   "source": [
    "#### Apply word count to Shakespear plays"
   ]
  },
  {
   "cell_type": "code",
   "execution_count": 60,
   "metadata": {
    "collapsed": true
   },
   "outputs": [],
   "source": [
    "# create a defined function to count words\n",
    "def countwords(wordrdd):\n",
    "    \n",
    "    return (wordrdd\n",
    "            .map(lambda x: (x,1))\n",
    "            .reduceByKey(lambda x,y: x+y))"
   ]
  },
  {
   "cell_type": "code",
   "execution_count": 61,
   "metadata": {},
   "outputs": [
    {
     "data": {
      "text/plain": [
       "[('cat', 2), ('elephant', 1), ('rat', 2)]"
      ]
     },
     "execution_count": 61,
     "metadata": {},
     "output_type": "execute_result"
    }
   ],
   "source": [
    "countwords(wordrdd).collect()"
   ]
  },
  {
   "cell_type": "code",
   "execution_count": 65,
   "metadata": {},
   "outputs": [],
   "source": [
    "# deal with Capitalization and punctuation \n",
    "import re\n",
    "import string"
   ]
  },
  {
   "cell_type": "code",
   "execution_count": 340,
   "metadata": {
    "collapsed": true
   },
   "outputs": [],
   "source": [
    "#function to remove punctuation\n",
    "def removepunctuation(text):\n",
    "    \n",
    "    regex = re.compile('[%s]' % (string.punctuation))\n",
    "    txt = regex.sub('',text.lower()).strip()\n",
    "    return ''.join([x for x in txt if ord(x)<128]) # be sure that we remove non ascii characters"
   ]
  },
  {
   "cell_type": "code",
   "execution_count": 341,
   "metadata": {},
   "outputs": [
    {
     "data": {
      "text/plain": [
       "('hi you', 'no underscore', 'tis')"
      ]
     },
     "execution_count": 341,
     "metadata": {},
     "output_type": "execute_result"
    }
   ],
   "source": [
    "# test function\n",
    "removepunctuation('Hi, you!'), removepunctuation(' No under_score!'), removepunctuation('“’tis')"
   ]
  },
  {
   "cell_type": "code",
   "execution_count": 220,
   "metadata": {},
   "outputs": [],
   "source": [
    "# access shakespear text file from http://www.gutenberg.org\n",
    "import requests\n",
    "from bs4 import BeautifulSoup"
   ]
  },
  {
   "cell_type": "code",
   "execution_count": 221,
   "metadata": {},
   "outputs": [],
   "source": [
    "page = requests.get('http://www.gutenberg.org/files/100/100-0.txt')\n",
    "soup = BeautifulSoup(page.content, 'html.parser')"
   ]
  },
  {
   "cell_type": "code",
   "execution_count": 271,
   "metadata": {},
   "outputs": [],
   "source": [
    "text = soup.contents[0]"
   ]
  },
  {
   "cell_type": "code",
   "execution_count": 272,
   "metadata": {},
   "outputs": [
    {
     "data": {
      "text/plain": [
       "['',\n",
       " 'Project Gutenberg’s The Complete Works of William Shakespeare, by William',\n",
       " 'Shakespeare',\n",
       " '',\n",
       " 'This eBook is for the use of anyone anywhere in the United States and',\n",
       " 'most other parts of the world at no cost and with almost no restrictions',\n",
       " 'whatsoever.  You may copy it, give it away or re-use it under the terms',\n",
       " 'of the Project Gutenberg License included with this eBook or online at',\n",
       " 'www.gutenberg.org.  If you are not located in the United States, you’ll',\n",
       " 'have to check the laws of the country where you are located before using',\n",
       " 'this ebook.',\n",
       " '',\n",
       " 'See at the end of this file: * CONTENT NOTE (added in 2017) *',\n",
       " '',\n",
       " '',\n",
       " 'Title: The Complete Works of William Shakespeare',\n",
       " '',\n",
       " 'Author: William Shakespeare',\n",
       " '',\n",
       " 'Release Date: January 1994 [EBook #100]',\n",
       " 'Last Updated: February 19, 2018',\n",
       " '',\n",
       " 'Language: English',\n",
       " '',\n",
       " 'Character set encoding: UTF-8',\n",
       " '',\n",
       " '*** START OF THIS PROJECT GUTENBERG EBOOK THE COMPLETE WORKS OF WILLIAM SHAKESPEARE ***',\n",
       " '',\n",
       " '',\n",
       " '',\n",
       " 'The Complete Works of William Shakespeare',\n",
       " '',\n",
       " '',\n",
       " '',\n",
       " 'by William Shakespeare',\n",
       " '',\n",
       " '',\n",
       " '',\n",
       " '',\n",
       " '',\n",
       " '',\n",
       " '      Contents',\n",
       " '',\n",
       " '',\n",
       " '',\n",
       " '               THE SONNETS',\n",
       " '',\n",
       " '               ALL’S WELL THAT ENDS WELL',\n",
       " '',\n",
       " '               THE TRAGEDY OF ANTONY AND CLEOPATRA',\n",
       " '',\n",
       " '               AS YOU LIKE IT',\n",
       " '',\n",
       " '               THE COMEDY OF ERRORS',\n",
       " '',\n",
       " '               THE TRAGEDY OF CORIOLANUS',\n",
       " '',\n",
       " '               CYMBELINE',\n",
       " '',\n",
       " '               THE TRAGEDY OF HAMLET, PRINCE OF DENMARK',\n",
       " '',\n",
       " '               THE FIRST PART OF KING HENRY THE FOURTH',\n",
       " '',\n",
       " '               THE SECOND PART OF KING HENRY THE FOURTH',\n",
       " '',\n",
       " '               THE LIFE OF KING HENRY THE FIFTH',\n",
       " '',\n",
       " '               THE FIRST PART OF HENRY THE SIXTH',\n",
       " '',\n",
       " '               THE SECOND PART OF KING HENRY THE SIXTH',\n",
       " '',\n",
       " '               THE THIRD PART OF KING HENRY THE SIXTH',\n",
       " '',\n",
       " '               KING HENRY THE EIGHTH',\n",
       " '',\n",
       " '               KING JOHN',\n",
       " '',\n",
       " '               THE TRAGEDY OF JULIUS CAESAR',\n",
       " '',\n",
       " '               THE TRAGEDY OF KING LEAR',\n",
       " '',\n",
       " '               LOVE’S LABOUR’S LOST',\n",
       " '',\n",
       " '               THE TRAGEDY OF MACBETH',\n",
       " '',\n",
       " '               MEASURE FOR MEASURE',\n",
       " '',\n",
       " '               THE MERCHANT OF VENICE',\n",
       " '',\n",
       " '               THE MERRY WIVES OF WINDSOR',\n",
       " '',\n",
       " '               A MIDSUMMER NIGHT’S DREAM',\n",
       " '',\n",
       " '               MUCH ADO ABOUT NOTHING',\n",
       " '',\n",
       " '               THE TRAGEDY OF OTHELLO, MOOR OF VENICE',\n",
       " '',\n",
       " '               PERICLES, PRINCE OF TYRE',\n",
       " '',\n",
       " '               KING RICHARD THE SECOND',\n",
       " '',\n",
       " '               KING RICHARD THE THIRD',\n",
       " '',\n",
       " '               THE TRAGEDY OF ROMEO AND JULIET',\n",
       " '',\n",
       " '               THE TAMING OF THE SHREW',\n",
       " '',\n",
       " '               THE TEMPEST',\n",
       " '',\n",
       " '               THE LIFE OF TIMON OF ATHENS',\n",
       " '',\n",
       " '               THE TRAGEDY OF TITUS ANDRONICUS',\n",
       " '',\n",
       " '               THE HISTORY OF TROILUS AND CRESSIDA',\n",
       " '',\n",
       " '               TWELFTH NIGHT; OR, WHAT YOU WILL',\n",
       " '',\n",
       " '               THE TWO GENTLEMEN OF VERONA',\n",
       " '',\n",
       " '               THE TWO NOBLE KINSMEN',\n",
       " '',\n",
       " '               THE WINTER’S TALE',\n",
       " '',\n",
       " '               A LOVER’S COMPLAINT',\n",
       " '',\n",
       " '               THE PASSIONATE PILGRIM',\n",
       " '',\n",
       " '               THE PHOENIX AND THE TURTLE',\n",
       " '',\n",
       " '               THE RAPE OF LUCRECE',\n",
       " '',\n",
       " '               VENUS AND ADONIS',\n",
       " '',\n",
       " '',\n",
       " '',\n",
       " '']"
      ]
     },
     "execution_count": 272,
     "metadata": {},
     "output_type": "execute_result"
    }
   ],
   "source": [
    "text[:2970].splitlines() # after trial and error, 2970 seemed a good choice for the header that doesn't need to be included"
   ]
  },
  {
   "cell_type": "code",
   "execution_count": 273,
   "metadata": {
    "collapsed": true
   },
   "outputs": [],
   "source": [
    "header = 2970"
   ]
  },
  {
   "cell_type": "code",
   "execution_count": 274,
   "metadata": {},
   "outputs": [],
   "source": [
    "text = text[header:].splitlines() # slice the start of the actual text"
   ]
  },
  {
   "cell_type": "code",
   "execution_count": 342,
   "metadata": {},
   "outputs": [],
   "source": [
    "shakespeareRDD = (sc\n",
    "                  .parallelize(text , 8)\n",
    "                  .map(removepunctuation)) # make an RDD with every element is a new line of the text\n"
   ]
  },
  {
   "cell_type": "code",
   "execution_count": 343,
   "metadata": {},
   "outputs": [
    {
     "data": {
      "text/plain": [
       "['',\n",
       " '',\n",
       " 'the sonnets',\n",
       " '',\n",
       " '1',\n",
       " '',\n",
       " 'from fairest creatures we desire increase',\n",
       " 'that thereby beautys rose might never die',\n",
       " 'but as the riper should by time decease',\n",
       " 'his tender heir might bear his memory']"
      ]
     },
     "execution_count": 343,
     "metadata": {},
     "output_type": "execute_result"
    }
   ],
   "source": [
    "shakespeareRDD.take(10) # top 10 first lines"
   ]
  },
  {
   "cell_type": "code",
   "execution_count": 344,
   "metadata": {},
   "outputs": [
    {
     "name": "stdout",
     "output_type": "stream",
     "text": [
      "0: \n",
      "1: \n",
      "2: the sonnets\n",
      "3: \n",
      "4: 1\n",
      "5: \n",
      "6: from fairest creatures we desire increase\n",
      "7: that thereby beautys rose might never die\n",
      "8: but as the riper should by time decease\n",
      "9: his tender heir might bear his memory\n",
      "10: but thou contracted to thine own bright eyes\n",
      "11: feedst thy lights flame with selfsubstantial fuel\n",
      "12: making a famine where abundance lies\n",
      "13: thy self thy foe to thy sweet self too cruel\n",
      "14: thou that art now the worlds fresh ornament\n"
     ]
    }
   ],
   "source": [
    "print( '\\n'.join(shakespeareRDD\n",
    "                .zipWithIndex()  # to (line, lineNum)\n",
    "                .map(lambda item: '{0}: {1}'.format(item[1], item[0]))  # to 'lineNum: line'\n",
    "                .take(15)))"
   ]
  },
  {
   "cell_type": "code",
   "execution_count": 345,
   "metadata": {},
   "outputs": [
    {
     "data": {
      "text/plain": [
       "(['zwounds',\n",
       "  'zwounds',\n",
       "  'zwounds',\n",
       "  'zwounds',\n",
       "  'zwounds',\n",
       "  'zwounds',\n",
       "  'zwounds',\n",
       "  'zwaggered',\n",
       "  'zounds',\n",
       "  'zounds',\n",
       "  'zounds',\n",
       "  'zounds',\n",
       "  'zounds',\n",
       "  'zounds',\n",
       "  'zounds',\n",
       "  'zounds',\n",
       "  'zounds',\n",
       "  'zounds',\n",
       "  'zounds',\n",
       "  'zounds'],\n",
       " 958999)"
      ]
     },
     "execution_count": 345,
     "metadata": {},
     "output_type": "execute_result"
    }
   ],
   "source": [
    "shakespeareWordsRDD = shakespeareRDD.flatMap(lambda x: x.split()) # RDD of all words split and flattened\n",
    "shakespeareWordCount = shakespeareWordsRDD.count()\n",
    "\n",
    "shakespeareWordsRDD.top(20),shakespeareWordCount"
   ]
  },
  {
   "cell_type": "code",
   "execution_count": 360,
   "metadata": {},
   "outputs": [
    {
     "name": "stdout",
     "output_type": "stream",
     "text": [
      "the: 29943\n",
      "and: 28346\n",
      "i: 21860\n",
      "to: 20884\n",
      "of: 18774\n",
      "a: 15990\n",
      "you: 14434\n",
      "my: 13191\n",
      "in: 12024\n",
      "that: 11781\n",
      "is: 9710\n",
      "not: 9067\n",
      "with: 8519\n",
      "me: 8271\n",
      "for: 8182\n"
     ]
    }
   ],
   "source": [
    "# display 15 top most frequent words in descending order\n",
    "top15wordscount = countwords(shakespeareWordsRDD).takeOrdered(15,lambda item: -item[1])\n",
    "print('\\n'.join(map(lambda item: '{0}: {1}'.format(item[0], item[1]), top15wordscount)))"
   ]
  },
  {
   "cell_type": "code",
   "execution_count": null,
   "metadata": {
    "collapsed": true
   },
   "outputs": [],
   "source": []
  }
 ],
 "metadata": {
  "kernelspec": {
   "display_name": "Python 3",
   "language": "python",
   "name": "python3"
  },
  "language_info": {
   "codemirror_mode": {
    "name": "ipython",
    "version": 3
   },
   "file_extension": ".py",
   "mimetype": "text/x-python",
   "name": "python",
   "nbconvert_exporter": "python",
   "pygments_lexer": "ipython3",
   "version": "3.5.4"
  }
 },
 "nbformat": 4,
 "nbformat_minor": 2
}
